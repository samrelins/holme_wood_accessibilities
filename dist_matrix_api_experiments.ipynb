{
 "cells": [
  {
   "cell_type": "code",
   "execution_count": null,
   "metadata": {
    "pycharm": {
     "name": "#%%\n",
     "is_executing": true
    }
   },
   "outputs": [],
   "source": [
    "import geopandas\n",
    "import googlemaps\n",
    "import os\n",
    "\n",
    "api_key = os.environ.get(\"GCLOUD_API_KEY\")\n",
    "client = googlemaps.Client(api_key)"
   ]
  },
  {
   "cell_type": "code",
   "execution_count": 11,
   "metadata": {
    "pycharm": {
     "name": "#%%\n"
    }
   },
   "outputs": [],
   "source": [
    "origins = [\"Bradford Royal Infirmary\", \"Holmewood Estate Bradford\"]\n",
    "destinations = [\"21 Grosmont Terrace Leeds\",\"21 Grosmont Terrace Leeds\"]\n",
    "matrix = client.distance_matrix(origins, destinations)"
   ]
  },
  {
   "cell_type": "code",
   "execution_count": 12,
   "metadata": {
    "pycharm": {
     "name": "#%%\n"
    }
   },
   "outputs": [
    {
     "data": {
      "text/html": [
       "<div>\n",
       "<style scoped>\n",
       "    .dataframe tbody tr th:only-of-type {\n",
       "        vertical-align: middle;\n",
       "    }\n",
       "\n",
       "    .dataframe tbody tr th {\n",
       "        vertical-align: top;\n",
       "    }\n",
       "\n",
       "    .dataframe thead th {\n",
       "        text-align: right;\n",
       "    }\n",
       "</style>\n",
       "<table border=\"1\" class=\"dataframe\">\n",
       "  <thead>\n",
       "    <tr style=\"text-align: right;\">\n",
       "      <th></th>\n",
       "      <th>OBJECTID</th>\n",
       "      <th>LSOA11CD</th>\n",
       "      <th>LSOA11NM</th>\n",
       "      <th>BNG_E</th>\n",
       "      <th>BNG_N</th>\n",
       "      <th>LONG_</th>\n",
       "      <th>LAT</th>\n",
       "      <th>Shape_Leng</th>\n",
       "      <th>Shape__Are</th>\n",
       "      <th>Shape__Len</th>\n",
       "      <th>geometry</th>\n",
       "    </tr>\n",
       "  </thead>\n",
       "  <tbody>\n",
       "    <tr>\n",
       "      <th>0</th>\n",
       "      <td>1</td>\n",
       "      <td>E01000001</td>\n",
       "      <td>City of London 001A</td>\n",
       "      <td>532123</td>\n",
       "      <td>181632</td>\n",
       "      <td>-0.097140</td>\n",
       "      <td>51.5182</td>\n",
       "      <td>2635.767993</td>\n",
       "      <td>1.298653e+05</td>\n",
       "      <td>2635.767993</td>\n",
       "      <td>POLYGON ((532151.537 181867.433, 532152.500 18...</td>\n",
       "    </tr>\n",
       "    <tr>\n",
       "      <th>1</th>\n",
       "      <td>2</td>\n",
       "      <td>E01000002</td>\n",
       "      <td>City of London 001B</td>\n",
       "      <td>532480</td>\n",
       "      <td>181715</td>\n",
       "      <td>-0.091970</td>\n",
       "      <td>51.5188</td>\n",
       "      <td>2707.881853</td>\n",
       "      <td>2.284196e+05</td>\n",
       "      <td>2707.881853</td>\n",
       "      <td>POLYGON ((532634.497 181926.016, 532632.048 18...</td>\n",
       "    </tr>\n",
       "    <tr>\n",
       "      <th>2</th>\n",
       "      <td>3</td>\n",
       "      <td>E01000003</td>\n",
       "      <td>City of London 001C</td>\n",
       "      <td>532239</td>\n",
       "      <td>182033</td>\n",
       "      <td>-0.095320</td>\n",
       "      <td>51.5217</td>\n",
       "      <td>1224.638192</td>\n",
       "      <td>5.905435e+04</td>\n",
       "      <td>1224.638192</td>\n",
       "      <td>POLYGON ((532153.703 182165.155, 532158.250 18...</td>\n",
       "    </tr>\n",
       "    <tr>\n",
       "      <th>3</th>\n",
       "      <td>4</td>\n",
       "      <td>E01000005</td>\n",
       "      <td>City of London 001E</td>\n",
       "      <td>533581</td>\n",
       "      <td>181283</td>\n",
       "      <td>-0.076270</td>\n",
       "      <td>51.5147</td>\n",
       "      <td>2275.805348</td>\n",
       "      <td>1.895777e+05</td>\n",
       "      <td>2275.805348</td>\n",
       "      <td>POLYGON ((533619.062 181402.364, 533639.868 18...</td>\n",
       "    </tr>\n",
       "    <tr>\n",
       "      <th>4</th>\n",
       "      <td>5</td>\n",
       "      <td>E01000006</td>\n",
       "      <td>Barking and Dagenham 016A</td>\n",
       "      <td>544994</td>\n",
       "      <td>184274</td>\n",
       "      <td>0.089317</td>\n",
       "      <td>51.5387</td>\n",
       "      <td>1966.092607</td>\n",
       "      <td>1.465370e+05</td>\n",
       "      <td>1966.092607</td>\n",
       "      <td>POLYGON ((545126.852 184310.838, 545145.213 18...</td>\n",
       "    </tr>\n",
       "    <tr>\n",
       "      <th>...</th>\n",
       "      <td>...</td>\n",
       "      <td>...</td>\n",
       "      <td>...</td>\n",
       "      <td>...</td>\n",
       "      <td>...</td>\n",
       "      <td>...</td>\n",
       "      <td>...</td>\n",
       "      <td>...</td>\n",
       "      <td>...</td>\n",
       "      <td>...</td>\n",
       "      <td>...</td>\n",
       "    </tr>\n",
       "    <tr>\n",
       "      <th>34748</th>\n",
       "      <td>34749</td>\n",
       "      <td>W01001954</td>\n",
       "      <td>Cardiff 006F</td>\n",
       "      <td>312959</td>\n",
       "      <td>180574</td>\n",
       "      <td>-3.255820</td>\n",
       "      <td>51.5173</td>\n",
       "      <td>5567.813286</td>\n",
       "      <td>6.400342e+05</td>\n",
       "      <td>5567.813286</td>\n",
       "      <td>POLYGON ((312747.367 181262.100, 312751.477 18...</td>\n",
       "    </tr>\n",
       "    <tr>\n",
       "      <th>34749</th>\n",
       "      <td>34750</td>\n",
       "      <td>W01001955</td>\n",
       "      <td>Swansea 025F</td>\n",
       "      <td>265633</td>\n",
       "      <td>193182</td>\n",
       "      <td>-3.942370</td>\n",
       "      <td>51.6214</td>\n",
       "      <td>6037.602710</td>\n",
       "      <td>6.871190e+05</td>\n",
       "      <td>6037.602710</td>\n",
       "      <td>POLYGON ((265804.688 194161.261, 265815.000 19...</td>\n",
       "    </tr>\n",
       "    <tr>\n",
       "      <th>34750</th>\n",
       "      <td>34751</td>\n",
       "      <td>W01001956</td>\n",
       "      <td>Swansea 023E</td>\n",
       "      <td>260586</td>\n",
       "      <td>192621</td>\n",
       "      <td>-4.015000</td>\n",
       "      <td>51.6151</td>\n",
       "      <td>13127.898240</td>\n",
       "      <td>2.500337e+06</td>\n",
       "      <td>13127.898240</td>\n",
       "      <td>POLYGON ((259961.000 194979.500, 259969.094 19...</td>\n",
       "    </tr>\n",
       "    <tr>\n",
       "      <th>34751</th>\n",
       "      <td>34752</td>\n",
       "      <td>W01001957</td>\n",
       "      <td>Swansea 025G</td>\n",
       "      <td>265337</td>\n",
       "      <td>192555</td>\n",
       "      <td>-3.946400</td>\n",
       "      <td>51.6157</td>\n",
       "      <td>2829.597133</td>\n",
       "      <td>2.139171e+05</td>\n",
       "      <td>2829.597133</td>\n",
       "      <td>POLYGON ((265154.000 192746.000, 265156.000 19...</td>\n",
       "    </tr>\n",
       "    <tr>\n",
       "      <th>34752</th>\n",
       "      <td>34753</td>\n",
       "      <td>W01001958</td>\n",
       "      <td>Swansea 025H</td>\n",
       "      <td>266265</td>\n",
       "      <td>192630</td>\n",
       "      <td>-3.933030</td>\n",
       "      <td>51.6166</td>\n",
       "      <td>4952.206534</td>\n",
       "      <td>3.120572e+05</td>\n",
       "      <td>4952.206534</td>\n",
       "      <td>POLYGON ((266194.001 193080.406, 266212.375 19...</td>\n",
       "    </tr>\n",
       "  </tbody>\n",
       "</table>\n",
       "<p>34753 rows × 11 columns</p>\n",
       "</div>"
      ],
      "text/plain": [
       "       OBJECTID   LSOA11CD                   LSOA11NM   BNG_E   BNG_N  \\\n",
       "0             1  E01000001        City of London 001A  532123  181632   \n",
       "1             2  E01000002        City of London 001B  532480  181715   \n",
       "2             3  E01000003        City of London 001C  532239  182033   \n",
       "3             4  E01000005        City of London 001E  533581  181283   \n",
       "4             5  E01000006  Barking and Dagenham 016A  544994  184274   \n",
       "...         ...        ...                        ...     ...     ...   \n",
       "34748     34749  W01001954               Cardiff 006F  312959  180574   \n",
       "34749     34750  W01001955               Swansea 025F  265633  193182   \n",
       "34750     34751  W01001956               Swansea 023E  260586  192621   \n",
       "34751     34752  W01001957               Swansea 025G  265337  192555   \n",
       "34752     34753  W01001958               Swansea 025H  266265  192630   \n",
       "\n",
       "          LONG_      LAT    Shape_Leng    Shape__Are    Shape__Len  \\\n",
       "0     -0.097140  51.5182   2635.767993  1.298653e+05   2635.767993   \n",
       "1     -0.091970  51.5188   2707.881853  2.284196e+05   2707.881853   \n",
       "2     -0.095320  51.5217   1224.638192  5.905435e+04   1224.638192   \n",
       "3     -0.076270  51.5147   2275.805348  1.895777e+05   2275.805348   \n",
       "4      0.089317  51.5387   1966.092607  1.465370e+05   1966.092607   \n",
       "...         ...      ...           ...           ...           ...   \n",
       "34748 -3.255820  51.5173   5567.813286  6.400342e+05   5567.813286   \n",
       "34749 -3.942370  51.6214   6037.602710  6.871190e+05   6037.602710   \n",
       "34750 -4.015000  51.6151  13127.898240  2.500337e+06  13127.898240   \n",
       "34751 -3.946400  51.6157   2829.597133  2.139171e+05   2829.597133   \n",
       "34752 -3.933030  51.6166   4952.206534  3.120572e+05   4952.206534   \n",
       "\n",
       "                                                geometry  \n",
       "0      POLYGON ((532151.537 181867.433, 532152.500 18...  \n",
       "1      POLYGON ((532634.497 181926.016, 532632.048 18...  \n",
       "2      POLYGON ((532153.703 182165.155, 532158.250 18...  \n",
       "3      POLYGON ((533619.062 181402.364, 533639.868 18...  \n",
       "4      POLYGON ((545126.852 184310.838, 545145.213 18...  \n",
       "...                                                  ...  \n",
       "34748  POLYGON ((312747.367 181262.100, 312751.477 18...  \n",
       "34749  POLYGON ((265804.688 194161.261, 265815.000 19...  \n",
       "34750  POLYGON ((259961.000 194979.500, 259969.094 19...  \n",
       "34751  POLYGON ((265154.000 192746.000, 265156.000 19...  \n",
       "34752  POLYGON ((266194.001 193080.406, 266212.375 19...  \n",
       "\n",
       "[34753 rows x 11 columns]"
      ]
     },
     "execution_count": 12,
     "metadata": {},
     "output_type": "execute_result"
    }
   ],
   "source": [
    "data_dir = '/Users/samrelins/Documents/BIHR/transport_proj/data'\n",
    "gdf = geopandas.read_file(data_dir + \"/Lower_Layer_Super_Output_Areas__December_2011__Boundaries_Full_Clipped__BFC__EW_V3-shp\")\n",
    "gdf"
   ]
  },
  {
   "cell_type": "code",
   "execution_count": 14,
   "metadata": {
    "pycharm": {
     "name": "#%%\n"
    }
   },
   "outputs": [],
   "source": [
    "brad_mask = gdf.LSOA11NM.str.contains(\"Bradford\")\n",
    "brad_gdf = gdf[brad_mask].to_crs(epsg=3857)\n",
    "hw_lsoas = [\"E01010612\",  \"E01010819\", \"E01010820\", \"E01010821\", \"E01010822\"]\n",
    "hw_mask = gdf.LSOA11CD.isin(hw_lsoas)\n",
    "hw_gdf = gdf[hw_mask].to_crs(epsg=3857)"
   ]
  },
  {
   "cell_type": "code",
   "execution_count": 21,
   "metadata": {
    "pycharm": {
     "name": "#%%\n"
    }
   },
   "outputs": [],
   "source": [
    "hw_origins = []\n",
    "for _, row in hw_gdf.iterrows():\n",
    "    hw_origins.append(f\"{row['LAT']},{row['LONG_']}\")"
   ]
  },
  {
   "cell_type": "code",
   "execution_count": 24,
   "metadata": {
    "pycharm": {
     "name": "#%%\n"
    }
   },
   "outputs": [],
   "source": [
    "hw_origins = []\n",
    "for _, row in hw_gdf.iterrows():\n",
    "    hw_origins.append(f\"{row['LAT']},{row['LONG_']}\")\n",
    "destination = [\"Bradford Royal Infirmary\"]\n",
    "hw_test_matrix = client.distance_matrix(hw_origins, destination)"
   ]
  },
  {
   "cell_type": "code",
   "execution_count": 25,
   "metadata": {
    "pycharm": {
     "name": "#%%\n"
    }
   },
   "outputs": [
    {
     "data": {
      "text/plain": [
       "{'destination_addresses': ['Duckworth Ln, Bradford BD9 6RJ, UK'],\n",
       " 'origin_addresses': ['Ogden House, Danecourt Rd, Bradford BD4 0DF, UK',\n",
       "  '41 Dulverton Grove, Holme Wood, Bradford BD4 9EE, UK',\n",
       "  '6 Ovington Dr, Bradford BD4 0JX, UK',\n",
       "  '117 Kesteven Rd, Bradford BD4 0PB, UK',\n",
       "  '13 Knowles View, Bradford BD4 9AH, UK'],\n",
       " 'rows': [{'elements': [{'distance': {'text': '8.3 km', 'value': 8306},\n",
       "     'duration': {'text': '20 mins', 'value': 1212},\n",
       "     'status': 'OK'}]},\n",
       "  {'elements': [{'distance': {'text': '7.6 km', 'value': 7601},\n",
       "     'duration': {'text': '18 mins', 'value': 1079},\n",
       "     'status': 'OK'}]},\n",
       "  {'elements': [{'distance': {'text': '8.4 km', 'value': 8442},\n",
       "     'duration': {'text': '19 mins', 'value': 1128},\n",
       "     'status': 'OK'}]},\n",
       "  {'elements': [{'distance': {'text': '8.4 km', 'value': 8410},\n",
       "     'duration': {'text': '19 mins', 'value': 1139},\n",
       "     'status': 'OK'}]},\n",
       "  {'elements': [{'distance': {'text': '7.6 km', 'value': 7551},\n",
       "     'duration': {'text': '18 mins', 'value': 1062},\n",
       "     'status': 'OK'}]}],\n",
       " 'status': 'OK'}"
      ]
     },
     "execution_count": 25,
     "metadata": {},
     "output_type": "execute_result"
    }
   ],
   "source": [
    "hw_test_matrix"
   ]
  },
  {
   "cell_type": "code",
   "execution_count": null,
   "metadata": {
    "pycharm": {
     "name": "#%%\n"
    }
   },
   "outputs": [],
   "source": []
  }
 ],
 "metadata": {
  "kernelspec": {
   "name": "python3",
   "language": "python",
   "display_name": "Python 3 (ipykernel)"
  },
  "language_info": {
   "codemirror_mode": {
    "name": "ipython",
    "version": 3
   },
   "file_extension": ".py",
   "mimetype": "text/x-python",
   "name": "python",
   "nbconvert_exporter": "python",
   "pygments_lexer": "ipython3",
   "version": "3.10.4"
  }
 },
 "nbformat": 4,
 "nbformat_minor": 1
}